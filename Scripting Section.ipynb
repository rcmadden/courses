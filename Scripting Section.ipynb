{
  "nbformat": 4,
  "nbformat_minor": 0,
  "metadata": {
    "colab": {
      "provenance": [],
      "authorship_tag": "ABX9TyO8Fb8/19acVTdsGFE/+BRC",
      "include_colab_link": true
    },
    "kernelspec": {
      "name": "python3",
      "display_name": "Python 3"
    },
    "language_info": {
      "name": "python"
    }
  },
  "cells": [
    {
      "cell_type": "markdown",
      "metadata": {
        "id": "view-in-github",
        "colab_type": "text"
      },
      "source": [
        "<a href=\"https://colab.research.google.com/github/rcmadden/courses/blob/main/Scripting%20Section.ipynb\" target=\"_parent\"><img src=\"https://colab.research.google.com/assets/colab-badge.svg\" alt=\"Open In Colab\"/></a>"
      ]
    },
    {
      "cell_type": "markdown",
      "source": [
        "# Scripting\n"
      ],
      "metadata": {
        "id": "K7fCnaHFU41x"
      }
    },
    {
      "cell_type": "markdown",
      "source": [
        "converts a float to int"
      ],
      "metadata": {
        "id": "Tsi57kJXV9sC"
      }
    },
    {
      "cell_type": "code",
      "source": [
        "num = int(float(input('Enter a number: ')))\n",
        "print('hello ' * num)"
      ],
      "metadata": {
        "colab": {
          "base_uri": "https://localhost:8080/"
        },
        "id": "fdViAijnVmjz",
        "outputId": "6313ecce-25a8-4848-e03e-41b0a7f7ba63"
      },
      "execution_count": 8,
      "outputs": [
        {
          "output_type": "stream",
          "name": "stdout",
          "text": [
            "Enter a number: 6.7\n",
            "hello hello hello hello hello hello \n"
          ]
        }
      ]
    },
    {
      "cell_type": "markdown",
      "source": [
        "### eval\n",
        "We can also interpret user input as a Python expression using the built-in function eval. This function evaluates a string as a line of Python.\n"
      ],
      "metadata": {
        "id": "WUpiBgJMU8w7"
      }
    },
    {
      "cell_type": "code",
      "execution_count": 4,
      "metadata": {
        "colab": {
          "base_uri": "https://localhost:8080/"
        },
        "id": "GPXMcTrdU4LR",
        "outputId": "c45124b4-191a-4b51-a490-5aeab8fdc698"
      },
      "outputs": [
        {
          "name": "stdout",
          "output_type": "stream",
          "text": [
            "Enter an expression: 2*6\n"
          ]
        }
      ],
      "source": [
        "result = eval(input(\"Enter an expression: \"))\n"
      ]
    },
    {
      "cell_type": "code",
      "source": [
        "print(result)\n",
        "\n",
        "# If the user inputs 2 * 3, this outputs 6."
      ],
      "metadata": {
        "colab": {
          "base_uri": "https://localhost:8080/"
        },
        "id": "2tGa1iMyVHC-",
        "outputId": "2b53a991-59a7-4b1d-b158-5cfce7efdbe7"
      },
      "execution_count": 5,
      "outputs": [
        {
          "output_type": "stream",
          "name": "stdout",
          "text": [
            "12\n"
          ]
        }
      ]
    },
    {
      "cell_type": "markdown",
      "source": [
        "### Scripting with Raw Input\n",
        "Write a script that does the following:\n",
        "\n",
        "1. Ask for user input 3 times. Once for a list of names, once for a list of missing assignment counts, and once for a list of grades. Use this input to create lists for names, assignments, and grades.\n",
        "\n",
        "2. Use a loop to print the message for each student with the correct values. The potential grade is simply the current grade added to two times the number of missing assignments.\n",
        "\n",
        "sample input:\n",
        "\n",
        "names: chandler bing,phoebe buffay,monica geller,ross geller\n",
        "\n",
        "assignment counts: 3,6,0,2\n",
        "\n",
        "grades: 81,77,92,88"
      ],
      "metadata": {
        "id": "MYI6cwUz6RTE"
      }
    },
    {
      "cell_type": "code",
      "source": [
        "names =  input(names) # get and process input for a list of names\n",
        "assignments =  # get and process input for a list of the number of assignments\n",
        "grades =  # get and process input for a list of grades\n",
        "\n",
        "## message string to be used for each student\n",
        "## HINT: use .format() with this string in your for loop\n",
        "message = \"Hi {},\\n\\nThis is a reminder that you have {} assignments left to \\\n",
        "submit before you can graduate. Your current grade is {} and can increase \\\n",
        "to {} if you submit all assignments before the due date.\\n\\n\"\n",
        "\n",
        "## write a for loop that iterates through each set of names, assignments, and grades to print each student's message\n"
      ],
      "metadata": {
        "id": "6fFxAH646QfG"
      },
      "execution_count": null,
      "outputs": []
    }
  ]
}