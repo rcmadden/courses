{
  "cells": [
    {
      "cell_type": "markdown",
      "metadata": {
        "colab_type": "text",
        "id": "view-in-github"
      },
      "source": [
        "<a href=\"https://colab.research.google.com/github/rcmadden/courses/blob/main/Scripting%20Section.ipynb\" target=\"_parent\"><img src=\"https://colab.research.google.com/assets/colab-badge.svg\" alt=\"Open In Colab\"/></a>"
      ]
    },
    {
      "cell_type": "markdown",
      "metadata": {
        "id": "K7fCnaHFU41x"
      },
      "source": [
        "# Scripting\n"
      ]
    },
    {
      "cell_type": "markdown",
      "metadata": {
        "id": "Tsi57kJXV9sC"
      },
      "source": [
        "converts a float to int"
      ]
    },
    {
      "cell_type": "code",
      "execution_count": 1,
      "metadata": {
        "colab": {
          "base_uri": "https://localhost:8080/"
        },
        "id": "fdViAijnVmjz",
        "outputId": "6313ecce-25a8-4848-e03e-41b0a7f7ba63"
      },
      "outputs": [],
      "source": [
        "num = int(float(input('Enter a number: ')))\n",
        "print('hello ' * num)"
      ]
    },
    {
      "cell_type": "markdown",
      "metadata": {
        "id": "WUpiBgJMU8w7"
      },
      "source": [
        "### eval\n",
        "We can also interpret user input as a Python expression using the built-in function eval. This function evaluates a string as a line of Python.\n"
      ]
    },
    {
      "cell_type": "code",
      "execution_count": null,
      "metadata": {
        "colab": {
          "base_uri": "https://localhost:8080/"
        },
        "id": "GPXMcTrdU4LR",
        "outputId": "c45124b4-191a-4b51-a490-5aeab8fdc698"
      },
      "outputs": [
        {
          "name": "stdout",
          "output_type": "stream",
          "text": [
            "Enter an expression: 2*6\n"
          ]
        }
      ],
      "source": [
        "result = eval(input(\"Enter an expression: \"))\n"
      ]
    },
    {
      "cell_type": "code",
      "execution_count": null,
      "metadata": {
        "colab": {
          "base_uri": "https://localhost:8080/"
        },
        "id": "2tGa1iMyVHC-",
        "outputId": "2b53a991-59a7-4b1d-b158-5cfce7efdbe7"
      },
      "outputs": [
        {
          "name": "stdout",
          "output_type": "stream",
          "text": [
            "12\n"
          ]
        }
      ],
      "source": [
        "print(result)\n",
        "\n",
        "# If the user inputs 2 * 3, this outputs 6."
      ]
    },
    {
      "cell_type": "markdown",
      "metadata": {
        "id": "MYI6cwUz6RTE"
      },
      "source": [
        "### Scripting with Raw Input\n",
        "Write a script that does the following:\n",
        "\n",
        "1. Ask for user input 3 times. Once for a list of names, once for a list of missing assignment counts, and once for a list of grades. Use this input to create lists for names, assignments, and grades.\n",
        "\n",
        "2. Use a loop to print the message for each student with the correct values. The potential grade is simply the current grade added to two times the number of missing assignments.\n",
        "\n",
        "sample input:\n",
        "\n",
        "names: chandler bing,phoebe buffay,monica geller,ross geller\n",
        "\n",
        "assignment counts: 3,6,0,2\n",
        "\n",
        "grades: 81,77,92,88"
      ]
    },
    {
      "cell_type": "code",
      "execution_count": null,
      "metadata": {
        "id": "6fFxAH646QfG"
      },
      "outputs": [],
      "source": [
        "names =  input(names) # get and process input for a list of names\n",
        "assignments =  # get and process input for a list of the number of assignments\n",
        "grades =  # get and process input for a list of grades\n",
        "\n",
        "## message string to be used for each student\n",
        "## HINT: use .format() with this string in your for loop\n",
        "message = \"Hi {},\\n\\nThis is a reminder that you have {} assignments left to \\\n",
        "submit before you can graduate. Your current grade is {} and can increase \\\n",
        "to {} if you submit all assignments before the due date.\\n\\n\"\n",
        "\n",
        "## write a for loop that iterates through each set of names, assignments, and grades to print each student's message\n",
        "names =  'chandler bing,phoebe buffay,monica geller,ross geller'\n",
        "assignments = '3,6,0,2'\n",
        "grades = '81,77,92,88'\n",
        "\n",
        "\n",
        "# names =  (input('Enter names seperated by commas: ')) # get and process input for a list of names\n",
        "# assignments = (input('Enter assignments: ')) # get and process input for a list of the number of assignments\n",
        "# grades = (input('Enter grades: ')) # get and process input for a list of grades\n",
        "\n",
        "## message string to be used for each student\n",
        "## HINT: use .format() with this string in your for loop\n",
        "message = \"Hi {name},\\n\\nThis is a reminder that you have {assignment} assignments left to \\\n",
        "submit before you can graduate. Your current grade is {grade} and can increase \\\n",
        "to {grade} if you submit all assignments before the due date.\\n\\n\"\n",
        "\n",
        "names = input(\"Enter names separated by commas: \").split(\",\")\n",
        "assignments = input(\"Enter assignments separated by commas: \").split(\",\")\n",
        "grades = input(\"Enter grades separated by commas: \").split(\",\")\n",
        "\n",
        "## write a for loop that iterates through each set of names, assignments, and grades to print each student's message\n",
        "for name, assignment, grade in zip(names, assignments, grades):\n",
        "    print(message.format(name, assignment, grade, int(grade) + int(assignment)*2))\n"
      ]
    },
    {
      "cell_type": "markdown",
      "metadata": {},
      "source": [
        "### Exceptions"
      ]
    },
    {
      "cell_type": "code",
      "execution_count": null,
      "metadata": {},
      "outputs": [],
      "source": [
        "# Why do we need the finally clause in Python? \n",
        "# https://stackoverflow.com/questions/11551996/why-do-we-need-the-finally-clause-in-python\n",
        "\n",
        "def run_code1(x):\n",
        "    print(\"Code 1\")\n",
        "\n",
        "def run_code2():\n",
        "    print(\"Code 2\") \n",
        "\n",
        "def other_code():\n",
        "    print(\"Other code\")\n",
        "\n",
        "try:\n",
        "    run_code1()\n",
        "except TypeError:\n",
        "    run_code2()\n",
        "finally:\n",
        "    other_code()"
      ]
    },
    {
      "cell_type": "code",
      "execution_count": null,
      "metadata": {},
      "outputs": [],
      "source": [
        "def party_planner(cookies, people):\n",
        "    leftovers = None\n",
        "    num_each = None\n",
        "    # TODO: Add a try-except block here to\n",
        "    #       make sure no ZeroDivisionError occurs.\n",
        "    try:\n",
        "        num_each = cookies // people\n",
        "        leftovers = cookies % people\n",
        "    except ZeroDivisionError:\n",
        "        print('ZeroDivisionError')\n",
        "    # num_each = cookies // people\n",
        "    # leftovers = cookies % people\n",
        "\n",
        "    return(num_each, leftovers)\n",
        "\n",
        "# The main code block is below; do not edit this\n",
        "lets_party = 'y'\n",
        "while lets_party == 'y':\n",
        "\n",
        "    cookies = int(input(\"How many cookies are you baking? \"))\n",
        "    people = int(input(\"How many people are attending? \"))\n",
        "\n",
        "    cookies_each, leftovers = party_planner(cookies, people)\n",
        "\n",
        "    if cookies_each:  # if cookies_each is not None\n",
        "        message = \"\\nLet's party! We'll have {} people attending, they'll each get to eat {} cookies, and we'll have {} left over.\"\n",
        "        print(message.format(people, cookies_each, leftovers))\n",
        "\n",
        "    lets_party = input(\"\\nWould you like to party more? (y or n) \")"
      ]
    },
    {
      "cell_type": "markdown",
      "metadata": {},
      "source": [
        "### Accesing Error Messages\n",
        "Exception is the base case for built-in exceptions.\n",
        "See: https://docs.python.org/3/library/exceptions.html#bltin-exceptions"
      ]
    },
    {
      "cell_type": "code",
      "execution_count": null,
      "metadata": {},
      "outputs": [],
      "source": [
        "try:\n",
        "    # some code\n",
        "except Exception as e:\n",
        "   # some code\n",
        "   print(\"Exception occurred: {}\".format(e))"
      ]
    },
    {
      "cell_type": "markdown",
      "metadata": {},
      "source": [
        "You can access error message when handeling exceptions like this:"
      ]
    },
    {
      "cell_type": "code",
      "execution_count": null,
      "metadata": {},
      "outputs": [],
      "source": [
        "try:\n",
        "    # some code\n",
        "except ZeroDivisionError as e:\n",
        "   # some code\n",
        "   print(\"ZeroDivisionError occurred: {}\".format(e))"
      ]
    },
    {
      "cell_type": "markdown",
      "metadata": {},
      "source": [
        "### Using a main block\n",
        "\n",
        "To avoid running executable statements in a script when it's imported as a module in another script, include these lines in an if __name__ == \"__main__\" block. Or alternatively, include them in a function called main() and call this in the if main block.\n",
        "\n",
        "Whenever we run a script like this, Python actually sets a special built-in variable called __name__ for any module. When we run a script, Python recognizes this module as the main program, and sets the __name__ variable for this module to the string \"__main__\". For any modules that are imported in this script, this built-in __name__ variable is just set to the name of that module. Therefore, the condition if __name__ == \"__main__\"is just checking whether this module is the main program."
      ]
    },
    {
      "cell_type": "code",
      "execution_count": null,
      "metadata": {},
      "outputs": [],
      "source": [
        "## demo.py\n",
        "\n",
        "import useful_functions as uf\n",
        "\n",
        "scores = [88, 92, 79, 93, 85]\n",
        "\n",
        "mean = uf.mean(scores)\n",
        "curved = uf.add_five(scores)\n",
        "\n",
        "mean_c = uf.mean(curved)\n",
        "\n",
        "print(\"Scores:\", scores)\n",
        "print(\"Original Mean:\", mean, \" New Mean:\", mean_c)\n",
        "\n",
        "print(__name__)\n",
        "print(uf.__name__)"
      ]
    },
    {
      "cell_type": "code",
      "execution_count": null,
      "metadata": {},
      "outputs": [],
      "source": [
        "## useful_functions.py\n",
        "\n",
        "def mean(num_list):\n",
        "    return sum(num_list) / len(num_list)\n",
        "\n",
        "def add_five(num_list):\n",
        "    return [n + 5 for n in num_list]\n",
        "\n",
        "def main():\n",
        "    print(\"Testing mean function\")\n",
        "    n_list = [34, 44, 23, 46, 12, 24]\n",
        "    correct_mean = 30.5\n",
        "    assert(mean(n_list) == correct_mean)\n",
        "\n",
        "    print(\"Testing add_five function\")\n",
        "    correct_list = [39, 49, 28, 51, 17, 29]\n",
        "    assert(add_five(n_list) == correct_list)\n",
        "\n",
        "    print(\"All tests passed!\")\n",
        "\n",
        "if __name__ == '__main__':\n",
        "    main()"
      ]
    },
    {
      "cell_type": "code",
      "execution_count": null,
      "metadata": {},
      "outputs": [],
      "source": [
        "# TODO: First import the `random` module\n",
        "import random\n",
        "\n",
        "word_list = ['alice', 'very', 'tired', 'sitting', 'sister', 'bank', 'having', 'nothing', 'once', 'twice', 'peeped', 'into', 'book', 'sister', 'reading', 'what', 'book', 'thought', 'alice', 'without']\n",
        "\n",
        "            \n",
        "# TODO: Add your function generate_password below\n",
        "def generate_password(word_list):\n",
        "    random_list = random.choices(word_list, k=3)\n",
        "    return ''.join(random_list)\n",
        "# It should return a string consisting of three random words \n",
        "# concatenated together without spaces\n",
        "\n",
        "# Now we test the function\n",
        "password = generate_password(word_list)\n",
        "print(password)"
      ]
    },
    {
      "cell_type": "markdown",
      "metadata": {},
      "source": [
        "### Solutions"
      ]
    },
    {
      "cell_type": "code",
      "execution_count": null,
      "metadata": {},
      "outputs": [],
      "source": [
        "def generate_password():\n",
        "    return random.choice(word_list) + random.choice(word_list) + random.choice(word_list)"
      ]
    },
    {
      "cell_type": "code",
      "execution_count": null,
      "metadata": {},
      "outputs": [],
      "source": [
        "def generate_password():\n",
        "    return ''.join(random.sample(word_list, 3))"
      ]
    }
  ],
  "metadata": {
    "colab": {
      "authorship_tag": "ABX9TyO8Fb8/19acVTdsGFE/+BRC",
      "include_colab_link": true,
      "provenance": []
    },
    "kernelspec": {
      "display_name": "Python 3",
      "name": "python3"
    },
    "language_info": {
      "codemirror_mode": {
        "name": "ipython",
        "version": 3
      },
      "file_extension": ".py",
      "mimetype": "text/x-python",
      "name": "python",
      "nbconvert_exporter": "python",
      "pygments_lexer": "ipython3",
      "version": "3.11.5"
    }
  },
  "nbformat": 4,
  "nbformat_minor": 0
}
