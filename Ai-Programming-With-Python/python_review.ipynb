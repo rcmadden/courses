{
  "nbformat": 4,
  "nbformat_minor": 0,
  "metadata": {
    "colab": {
      "provenance": [],
      "authorship_tag": "ABX9TyMJvUEZrHYWp0HpxL8GsxV+",
      "include_colab_link": true
    },
    "kernelspec": {
      "name": "python3",
      "display_name": "Python 3"
    },
    "language_info": {
      "name": "python"
    }
  },
  "cells": [
    {
      "cell_type": "markdown",
      "metadata": {
        "id": "view-in-github",
        "colab_type": "text"
      },
      "source": [
        "<a href=\"https://colab.research.google.com/github/rcmadden/courses/blob/main/Ai-Programming-With-Python/python_review.ipynb\" target=\"_parent\"><img src=\"https://colab.research.google.com/assets/colab-badge.svg\" alt=\"Open In Colab\"/></a>"
      ]
    },
    {
      "cell_type": "markdown",
      "source": [
        "# Python Review\n"
      ],
      "metadata": {
        "id": "v-cHJU-psgJd"
      }
    },
    {
      "cell_type": "markdown",
      "source": [
        "## Quiz: Nearest Square\n",
        "\n",
        "Write a while loop that finds the largest square number less than an integer limit and stores it in a variable nearest_square. A square number is the product of an integer multiplied by itself, for example 36 is a square number because it equals 6*6.\n",
        "\n",
        "For example, if limit is 40, your code should set the nearest_square to 36."
      ],
      "metadata": {
        "id": "MZYpjT5zjGqQ"
      }
    },
    {
      "cell_type": "code",
      "source": [
        "## My Solution finds THE square (not nearest)\n",
        "limit = 36\n",
        "start_num = int(limit / 2)\n",
        "nearest_square = None\n",
        "\n",
        "for nearest_square in range(start_num, 0, -1):\n",
        "  print(nearest_square)\n",
        "  if nearest_square * nearest_square == limit:\n",
        "    print(start_num, nearest_square)\n",
        "    print(f'{limit} is a perfect square of {nearest_square} squared')\n",
        "    break\n",
        "print(nearest_square)"
      ],
      "metadata": {
        "id": "HCfdoPnTklQB",
        "outputId": "f1a2d655-cfb2-445e-c96d-3ef3e7e8de83",
        "colab": {
          "base_uri": "https://localhost:8080/"
        }
      },
      "execution_count": 26,
      "outputs": [
        {
          "output_type": "stream",
          "name": "stdout",
          "text": [
            "18\n",
            "17\n",
            "16\n",
            "15\n",
            "14\n",
            "13\n",
            "12\n",
            "11\n",
            "10\n",
            "9\n",
            "8\n",
            "7\n",
            "6\n",
            "18 6\n",
            "36 is a perfect square of 6 squared\n",
            "6\n"
          ]
        }
      ]
    },
    {
      "cell_type": "code",
      "source": [
        "# modify the code above to find the nearest square\n"
      ],
      "metadata": {
        "id": "_CYIsMQ28_aJ"
      },
      "execution_count": 29,
      "outputs": []
    },
    {
      "cell_type": "code",
      "source": [
        "## Course Solution\n",
        "num = 0\n",
        "while (num+1)**2 < limit:\n",
        "    num += 1\n",
        "    print(num)\n",
        "nearest_square = num**2\n",
        "\n",
        "print(limit, nearest_square)"
      ],
      "metadata": {
        "id": "9z4mEcu-7KI0",
        "outputId": "7a1d22e8-44dc-4468-84bd-3ff53c5e074d",
        "colab": {
          "base_uri": "https://localhost:8080/"
        }
      },
      "execution_count": 27,
      "outputs": [
        {
          "output_type": "stream",
          "name": "stdout",
          "text": [
            "1\n",
            "2\n",
            "3\n",
            "4\n",
            "5\n",
            "36 25\n"
          ]
        }
      ]
    }
  ]
}