{
  "nbformat": 4,
  "nbformat_minor": 0,
  "metadata": {
    "colab": {
      "provenance": [],
      "authorship_tag": "ABX9TyPQCeIUTfxZmC6GhJnpCebw",
      "include_colab_link": true
    },
    "kernelspec": {
      "name": "python3",
      "display_name": "Python 3"
    },
    "language_info": {
      "name": "python"
    }
  },
  "cells": [
    {
      "cell_type": "markdown",
      "metadata": {
        "id": "view-in-github",
        "colab_type": "text"
      },
      "source": [
        "<a href=\"https://colab.research.google.com/github/rcmadden/courses/blob/main/Ai-Programming-With-Python/python_review.ipynb\" target=\"_parent\"><img src=\"https://colab.research.google.com/assets/colab-badge.svg\" alt=\"Open In Colab\"/></a>"
      ]
    },
    {
      "cell_type": "markdown",
      "source": [
        "# Python Review\n"
      ],
      "metadata": {
        "id": "v-cHJU-psgJd"
      }
    },
    {
      "cell_type": "markdown",
      "source": [
        "## Quiz: Nearest Square\n",
        "\n",
        "Write a while loop that finds the largest square number less than an integer limit and stores it in a variable nearest_square. A square number is the product of an integer multiplied by itself, for example 36 is a square number because it equals 6*6.\n",
        "\n",
        "For example, if limit is 40, your code should set the nearest_square to 36."
      ],
      "metadata": {
        "id": "MZYpjT5zjGqQ"
      }
    },
    {
      "cell_type": "code",
      "source": [
        "## My Solution finds THE square (not nearest)\n",
        "limit = 36\n",
        "start_num = int(limit / 2)\n",
        "nearest_square = None\n",
        "\n",
        "for nearest_square in range(start_num, 0, -1):\n",
        "  print(nearest_square)\n",
        "  if nearest_square * nearest_square == limit:\n",
        "    print(start_num, nearest_square)\n",
        "    print(f'{limit} is a perfect square of {nearest_square} squared')\n",
        "    break\n",
        "print(nearest_square)"
      ],
      "metadata": {
        "id": "HCfdoPnTklQB",
        "outputId": "f1a2d655-cfb2-445e-c96d-3ef3e7e8de83",
        "colab": {
          "base_uri": "https://localhost:8080/"
        }
      },
      "execution_count": null,
      "outputs": [
        {
          "output_type": "stream",
          "name": "stdout",
          "text": [
            "18\n",
            "17\n",
            "16\n",
            "15\n",
            "14\n",
            "13\n",
            "12\n",
            "11\n",
            "10\n",
            "9\n",
            "8\n",
            "7\n",
            "6\n",
            "18 6\n",
            "36 is a perfect square of 6 squared\n",
            "6\n"
          ]
        }
      ]
    },
    {
      "cell_type": "code",
      "source": [
        "# modify the code above to find the nearest square\n"
      ],
      "metadata": {
        "id": "_CYIsMQ28_aJ"
      },
      "execution_count": null,
      "outputs": []
    },
    {
      "cell_type": "code",
      "source": [
        "## Course Solution\n",
        "num = 0\n",
        "while (num+1)**2 < limit:\n",
        "    num += 1\n",
        "    print(num)\n",
        "nearest_square = num**2\n",
        "\n",
        "print(limit, nearest_square)"
      ],
      "metadata": {
        "id": "9z4mEcu-7KI0",
        "outputId": "7a1d22e8-44dc-4468-84bd-3ff53c5e074d",
        "colab": {
          "base_uri": "https://localhost:8080/"
        }
      },
      "execution_count": null,
      "outputs": [
        {
          "output_type": "stream",
          "name": "stdout",
          "text": [
            "1\n",
            "2\n",
            "3\n",
            "4\n",
            "5\n",
            "36 25\n"
          ]
        }
      ]
    },
    {
      "cell_type": "markdown",
      "source": [
        "##Would you use a while or a for loop to write this code?\n",
        "\n",
        "You need to write a loop that takes the numbers in a given list named num_list:\n",
        "\n"
      ],
      "metadata": {
        "id": "vfexKqTTHy4n"
      }
    },
    {
      "cell_type": "code",
      "source": [
        "num_list = [422, 136, 524, 85, 96, 719, 85, 92, 10, 17, 312, 542, 87, 23, 86, 191, 116, 35, 173, 45, 149, 59, 84, 69, 113, 166]"
      ],
      "metadata": {
        "id": "3J6gVNeTHxaq"
      },
      "execution_count": 1,
      "outputs": []
    },
    {
      "cell_type": "markdown",
      "source": [
        "Your code should add up the odd numbers in the list, but only up to the first 5 odd numbers together. If there are more than 5 odd numbers, you should stop at the fifth. If there are fewer than 5 odd numbers, add all of the odd numbers."
      ],
      "metadata": {
        "id": "XmFMqHhMIHtf"
      }
    },
    {
      "cell_type": "code",
      "source": [
        "num_list = [422, 136, 524, 85, 96, 719, 85, 92, 10, 17, 312, 542, 87, 23, 86, 191, 116, 35, 173, 45, 149, 59, 84, 69, 113, 166]\n",
        "odd_sum = 0\n",
        "count = 0\n",
        "for num in num_list:\n",
        "  if num % 2 != 0:\n",
        "    odd_sum += num\n",
        "    count += 1\n",
        "  if count == 5:\n",
        "    break\n",
        "print(odd_sum)"
      ],
      "metadata": {
        "colab": {
          "base_uri": "https://localhost:8080/"
        },
        "id": "K2jOlvdUJh-H",
        "outputId": "19abae4d-66c9-4e2b-d0e1-233aae15519e"
      },
      "execution_count": 8,
      "outputs": [
        {
          "output_type": "stream",
          "name": "stdout",
          "text": [
            "993\n"
          ]
        }
      ]
    },
    {
      "cell_type": "code",
      "source": [
        "num_list = [422, 136, 524, 85, 96, 719, 85, 92, 10, 17, 312, 542, 87, 23, 86, 191, 116, 35, 173, 45, 149, 59, 84, 69, 113, 166]\n",
        "odd_sum = 0\n",
        "count = 0\n",
        "i = 0\n",
        "while count < 5:\n",
        "  if num_list[i] % 2 != 0:\n",
        "    odd_sum += num_list[i]\n",
        "    count += 1\n",
        "  i += 1\n",
        "print(odd_sum)"
      ],
      "metadata": {
        "colab": {
          "base_uri": "https://localhost:8080/"
        },
        "id": "HOiYNIvyLNNS",
        "outputId": "60c5b1a4-f023-4b22-e45a-664b3b62f2eb"
      },
      "execution_count": 9,
      "outputs": [
        {
          "output_type": "stream",
          "name": "stdout",
          "text": [
            "993\n"
          ]
        }
      ]
    },
    {
      "cell_type": "code",
      "source": [
        "## Break, Continue\n",
        "manifest = [(\"bananas\", 15), (\"mattresses\", 24), (\"dog kennels\", 42), (\"machine\", 120), (\"cheeses\", 5)]\n",
        "\n",
        "# the code breaks the loop when weight exceeds or reaches the limit\n",
        "print(\"METHOD 1\")\n",
        "weight = 0\n",
        "items = []\n",
        "for cargo_name, cargo_weight in manifest:\n",
        "    print(\"current weight: {}\".format(weight))\n",
        "    if weight >= 100:\n",
        "        print(\"  breaking loop now!\")\n",
        "        break\n",
        "    else:\n",
        "        print(\"  adding {} ({})\".format(cargo_name, cargo_weight))\n",
        "        items.append(cargo_name)\n",
        "        weight += cargo_weight\n",
        "\n",
        "print(\"\\nFinal Weight: {}\".format(weight))\n",
        "print(\"Final Items: {}\".format(items))\n",
        "\n"
      ],
      "metadata": {
        "colab": {
          "base_uri": "https://localhost:8080/"
        },
        "id": "Cfhcgt0MNvvI",
        "outputId": "48b3e623-5065-45a7-bd7f-c1e60dd2b37f"
      },
      "execution_count": 10,
      "outputs": [
        {
          "output_type": "stream",
          "name": "stdout",
          "text": [
            "METHOD 1\n",
            "current weight: 0\n",
            "  adding bananas (15)\n",
            "current weight: 15\n",
            "  adding mattresses (24)\n",
            "current weight: 39\n",
            "  adding dog kennels (42)\n",
            "current weight: 81\n",
            "  adding machine (120)\n",
            "current weight: 201\n",
            "  breaking loop now!\n",
            "\n",
            "Final Weight: 201\n",
            "Final Items: ['bananas', 'mattresses', 'dog kennels', 'machine']\n"
          ]
        }
      ]
    },
    {
      "cell_type": "code",
      "source": [
        "# skips an iteration when adding an item would exceed the limit\n",
        "# Breaks the loop if weight is greater than or equal to the limit\n",
        "print(\"\\nMETHOD 2\")\n",
        "weight = 0\n",
        "items = []\n",
        "for cargo_name, cargo_weight in manifest:\n",
        "    print(\"current weight: {}\".format(weight))\n",
        "    if weight >= 100:\n",
        "        print(\"  breaking from the loop now!\")\n",
        "        break\n",
        "    elif weight + cargo_weight > 100:\n",
        "        print(\"  skipping {} ({})\".format(cargo_name, cargo_weight))\n",
        "        continue\n",
        "    else:\n",
        "        print(\"  adding {} ({})\".format(cargo_name, cargo_weight))\n",
        "        items.append(cargo_name)\n",
        "        weight += cargo_weight\n",
        "\n",
        "print(\"\\nFinal Weight: {}\".format(weight))\n",
        "print(\"Final Items: {}\".format(items))"
      ],
      "metadata": {
        "colab": {
          "base_uri": "https://localhost:8080/"
        },
        "id": "8mZYpTO0PCGE",
        "outputId": "fb7fbd1c-04b4-411e-8860-132590750c2e"
      },
      "execution_count": 11,
      "outputs": [
        {
          "output_type": "stream",
          "name": "stdout",
          "text": [
            "\n",
            "METHOD 2\n",
            "current weight: 0\n",
            "  adding bananas (15)\n",
            "current weight: 15\n",
            "  adding mattresses (24)\n",
            "current weight: 39\n",
            "  adding dog kennels (42)\n",
            "current weight: 81\n",
            "  skipping machine (120)\n",
            "current weight: 81\n",
            "  adding cheeses (5)\n",
            "\n",
            "Final Weight: 86\n",
            "Final Items: ['bananas', 'mattresses', 'dog kennels', 'cheeses']\n"
          ]
        }
      ]
    },
    {
      "cell_type": "markdown",
      "source": [
        "## Quiz: Break the String\n",
        "\n",
        "Write a loop with a break statement to create a string, news_ticker, that is exactly 140 characters long. You should create the news ticker by adding headlines from the headlines list, inserting a space in between each headline. If necessary, truncate the last headline in the middle so that news_ticker is exactly 140 characters long."
      ],
      "metadata": {
        "id": "dobZaETlP3tK"
      }
    },
    {
      "cell_type": "code",
      "source": [
        "a_string = ''\n",
        "a_string += 'russi'\n",
        "a_string += 'a madden'\n",
        "print(a_string)\n",
        "a_string"
      ],
      "metadata": {
        "id": "KO25tGj1UvwI",
        "outputId": "da612296-1e58-4923-8a2b-c23dc100b81f",
        "colab": {
          "base_uri": "https://localhost:8080/"
        }
      },
      "execution_count": 16,
      "outputs": [
        {
          "output_type": "stream",
          "name": "stdout",
          "text": [
            "russia madden\n"
          ]
        }
      ]
    },
    {
      "cell_type": "code",
      "source": [
        "# HINT: modify the headlines list to verify your loop works with different inputs\n",
        "headlines = [\"Local Bear Eaten by Man\",\n",
        "             \"Legislature Announces New Laws\",\n",
        "             \"Peasant Discovers Violence Inherent in System\",\n",
        "             \"Cat Rescues Fireman Stuck in Tree\",\n",
        "             \"Brave Knight Runs Away\",\n",
        "             \"Papperbok Review: Totally Triffic\"]\n",
        "\n",
        "news_ticker = \"\"\n",
        "i = 0\n",
        "# write your loop here\n",
        "while len(news_ticker) < 141:\n",
        "  news_ticker += headlines[i]\n",
        "  i += 1\n",
        "\n",
        "remove_extra_chars = len(news_ticker) - 141\n",
        "\n",
        "news_ticker = news_ticker[:-remove_extra_chars]\n",
        "print(news_ticker)\n",
        "print(len(news_ticker))"
      ],
      "metadata": {
        "colab": {
          "base_uri": "https://localhost:8080/"
        },
        "id": "0thGnEV4P0YH",
        "outputId": "391a257b-3afe-4f17-9d87-26b18aabc05e"
      },
      "execution_count": 35,
      "outputs": [
        {
          "output_type": "stream",
          "name": "stdout",
          "text": [
            "Local Bear Eaten by ManLegislature Announces New LawsPeasant Discovers Violence Inherent in SystemCat Rescues Fireman Stuck in TreeBrave Knig\n",
            "141\n"
          ]
        }
      ]
    },
    {
      "cell_type": "code",
      "source": [
        "# HINT: modify the headlines list to verify your loop works with different inputs\n",
        "headlines = [\"Local Bear Eaten by Man\",\n",
        "             \"Legislature Announces New Laws\",\n",
        "             \"Peasant Discovers Violence Inherent in System\",\n",
        "             \"Cat Rescues Fireman Stuck in Tree\",\n",
        "             \"Brave Knight Runs Away\",\n",
        "             \"Papperbok Review: Totally Triffic\"]\n",
        "\n",
        "news_ticker = \"\"\n",
        "# write your loop here\n",
        "i = 0\n",
        "\n",
        "for headline in headlines:\n",
        "    if len(news_ticker) + len(headline) >= 140:\n",
        "        news_ticker += headline\n",
        "        break\n",
        "    else:\n",
        "        news_ticker += headline + ' '\n",
        "        i += 1\n",
        "\n",
        "remove_extra_chars = len(news_ticker) - 140\n",
        "news_ticker = news_ticker[:-remove_extra_chars]\n",
        "print(news_ticker)\n",
        "print(len(news_ticker))"
      ],
      "metadata": {
        "id": "tkExQyWaYT7w",
        "outputId": "b390f6b9-ecd9-434d-f237-0998631e0320",
        "colab": {
          "base_uri": "https://localhost:8080/"
        }
      },
      "execution_count": 47,
      "outputs": [
        {
          "output_type": "stream",
          "name": "stdout",
          "text": [
            "Local Bear Eaten by Man Legislature Announces New Laws Peasant Discovers Violence Inherent in System Cat Rescues Fireman Stuck in Tree Brave\n",
            "140\n"
          ]
        }
      ]
    }
  ]
}