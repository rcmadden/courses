{
  "nbformat": 4,
  "nbformat_minor": 0,
  "metadata": {
    "colab": {
      "provenance": [],
      "authorship_tag": "ABX9TyOBxF/pjAzN4irpznyettze",
      "include_colab_link": true
    },
    "kernelspec": {
      "name": "python3",
      "display_name": "Python 3"
    },
    "language_info": {
      "name": "python"
    }
  },
  "cells": [
    {
      "cell_type": "markdown",
      "metadata": {
        "id": "view-in-github",
        "colab_type": "text"
      },
      "source": [
        "<a href=\"https://colab.research.google.com/github/rcmadden/courses/blob/main/Ai-Programming-With-Python/python_review.ipynb\" target=\"_parent\"><img src=\"https://colab.research.google.com/assets/colab-badge.svg\" alt=\"Open In Colab\"/></a>"
      ]
    },
    {
      "cell_type": "markdown",
      "source": [
        "# Python Review\n"
      ],
      "metadata": {
        "id": "v-cHJU-psgJd"
      }
    },
    {
      "cell_type": "markdown",
      "source": [
        "## Quiz: Nearest Square\n",
        "\n",
        "Write a while loop that finds the largest square number less than an integer limit and stores it in a variable nearest_square. A square number is the product of an integer multiplied by itself, for example 36 is a square number because it equals 6*6.\n",
        "\n",
        "For example, if limit is 40, your code should set the nearest_square to 36."
      ],
      "metadata": {
        "id": "MZYpjT5zjGqQ"
      }
    },
    {
      "cell_type": "code",
      "source": [
        "## My Solution finds THE square (not nearest)\n",
        "limit = 36\n",
        "start_num = int(limit / 2)\n",
        "nearest_square = None\n",
        "\n",
        "for nearest_square in range(start_num, 0, -1):\n",
        "  print(nearest_square)\n",
        "  if nearest_square * nearest_square == limit:\n",
        "    print(start_num, nearest_square)\n",
        "    print(f'{limit} is a perfect square of {nearest_square} squared')\n",
        "    break\n",
        "print(nearest_square)"
      ],
      "metadata": {
        "id": "HCfdoPnTklQB",
        "outputId": "f1a2d655-cfb2-445e-c96d-3ef3e7e8de83",
        "colab": {
          "base_uri": "https://localhost:8080/"
        }
      },
      "execution_count": null,
      "outputs": [
        {
          "output_type": "stream",
          "name": "stdout",
          "text": [
            "18\n",
            "17\n",
            "16\n",
            "15\n",
            "14\n",
            "13\n",
            "12\n",
            "11\n",
            "10\n",
            "9\n",
            "8\n",
            "7\n",
            "6\n",
            "18 6\n",
            "36 is a perfect square of 6 squared\n",
            "6\n"
          ]
        }
      ]
    },
    {
      "cell_type": "code",
      "source": [
        "# modify the code above to find the nearest square\n"
      ],
      "metadata": {
        "id": "_CYIsMQ28_aJ"
      },
      "execution_count": null,
      "outputs": []
    },
    {
      "cell_type": "code",
      "source": [
        "## Course Solution\n",
        "num = 0\n",
        "while (num+1)**2 < limit:\n",
        "    num += 1\n",
        "    print(num)\n",
        "nearest_square = num**2\n",
        "\n",
        "print(limit, nearest_square)"
      ],
      "metadata": {
        "id": "9z4mEcu-7KI0",
        "outputId": "7a1d22e8-44dc-4468-84bd-3ff53c5e074d",
        "colab": {
          "base_uri": "https://localhost:8080/"
        }
      },
      "execution_count": null,
      "outputs": [
        {
          "output_type": "stream",
          "name": "stdout",
          "text": [
            "1\n",
            "2\n",
            "3\n",
            "4\n",
            "5\n",
            "36 25\n"
          ]
        }
      ]
    },
    {
      "cell_type": "markdown",
      "source": [
        "##Would you use a while or a for loop to write this code?\n",
        "\n",
        "You need to write a loop that takes the numbers in a given list named num_list:\n",
        "\n"
      ],
      "metadata": {
        "id": "vfexKqTTHy4n"
      }
    },
    {
      "cell_type": "code",
      "source": [
        "num_list = [422, 136, 524, 85, 96, 719, 85, 92, 10, 17, 312, 542, 87, 23, 86, 191, 116, 35, 173, 45, 149, 59, 84, 69, 113, 166]"
      ],
      "metadata": {
        "id": "3J6gVNeTHxaq"
      },
      "execution_count": null,
      "outputs": []
    },
    {
      "cell_type": "markdown",
      "source": [
        "Your code should add up the odd numbers in the list, but only up to the first 5 odd numbers together. If there are more than 5 odd numbers, you should stop at the fifth. If there are fewer than 5 odd numbers, add all of the odd numbers."
      ],
      "metadata": {
        "id": "XmFMqHhMIHtf"
      }
    },
    {
      "cell_type": "code",
      "source": [
        "num_list = [422, 136, 524, 85, 96, 719, 85, 92, 10, 17, 312, 542, 87, 23, 86, 191, 116, 35, 173, 45, 149, 59, 84, 69, 113, 166]\n",
        "odd_sum = 0\n",
        "count = 0\n",
        "for num in num_list:\n",
        "  if num % 2 != 0:\n",
        "    odd_sum += num\n",
        "    count += 1\n",
        "  if count == 5:\n",
        "    break\n",
        "print(odd_sum)"
      ],
      "metadata": {
        "colab": {
          "base_uri": "https://localhost:8080/"
        },
        "id": "K2jOlvdUJh-H",
        "outputId": "19abae4d-66c9-4e2b-d0e1-233aae15519e"
      },
      "execution_count": null,
      "outputs": [
        {
          "output_type": "stream",
          "name": "stdout",
          "text": [
            "993\n"
          ]
        }
      ]
    },
    {
      "cell_type": "code",
      "source": [
        "num_list = [422, 136, 524, 85, 96, 719, 85, 92, 10, 17, 312, 542, 87, 23, 86, 191, 116, 35, 173, 45, 149, 59, 84, 69, 113, 166]\n",
        "odd_sum = 0\n",
        "count = 0\n",
        "i = 0\n",
        "while count < 5:\n",
        "  if num_list[i] % 2 != 0:\n",
        "    odd_sum += num_list[i]\n",
        "    count += 1\n",
        "  i += 1\n",
        "print(odd_sum)"
      ],
      "metadata": {
        "colab": {
          "base_uri": "https://localhost:8080/"
        },
        "id": "HOiYNIvyLNNS",
        "outputId": "60c5b1a4-f023-4b22-e45a-664b3b62f2eb"
      },
      "execution_count": null,
      "outputs": [
        {
          "output_type": "stream",
          "name": "stdout",
          "text": [
            "993\n"
          ]
        }
      ]
    },
    {
      "cell_type": "code",
      "source": [
        "## Break, Continue\n",
        "manifest = [(\"bananas\", 15), (\"mattresses\", 24), (\"dog kennels\", 42), (\"machine\", 120), (\"cheeses\", 5)]\n",
        "\n",
        "# the code breaks the loop when weight exceeds or reaches the limit\n",
        "print(\"METHOD 1\")\n",
        "weight = 0\n",
        "items = []\n",
        "for cargo_name, cargo_weight in manifest:\n",
        "    print(\"current weight: {}\".format(weight))\n",
        "    if weight >= 100:\n",
        "        print(\"  breaking loop now!\")\n",
        "        break\n",
        "    else:\n",
        "        print(\"  adding {} ({})\".format(cargo_name, cargo_weight))\n",
        "        items.append(cargo_name)\n",
        "        weight += cargo_weight\n",
        "\n",
        "print(\"\\nFinal Weight: {}\".format(weight))\n",
        "print(\"Final Items: {}\".format(items))\n",
        "\n"
      ],
      "metadata": {
        "colab": {
          "base_uri": "https://localhost:8080/"
        },
        "id": "Cfhcgt0MNvvI",
        "outputId": "48b3e623-5065-45a7-bd7f-c1e60dd2b37f"
      },
      "execution_count": null,
      "outputs": [
        {
          "output_type": "stream",
          "name": "stdout",
          "text": [
            "METHOD 1\n",
            "current weight: 0\n",
            "  adding bananas (15)\n",
            "current weight: 15\n",
            "  adding mattresses (24)\n",
            "current weight: 39\n",
            "  adding dog kennels (42)\n",
            "current weight: 81\n",
            "  adding machine (120)\n",
            "current weight: 201\n",
            "  breaking loop now!\n",
            "\n",
            "Final Weight: 201\n",
            "Final Items: ['bananas', 'mattresses', 'dog kennels', 'machine']\n"
          ]
        }
      ]
    },
    {
      "cell_type": "code",
      "source": [
        "# skips an iteration when adding an item would exceed the limit\n",
        "# Breaks the loop if weight is greater than or equal to the limit\n",
        "print(\"\\nMETHOD 2\")\n",
        "weight = 0\n",
        "items = []\n",
        "for cargo_name, cargo_weight in manifest:\n",
        "    print(\"current weight: {}\".format(weight))\n",
        "    if weight >= 100:\n",
        "        print(\"  breaking from the loop now!\")\n",
        "        break\n",
        "    elif weight + cargo_weight > 100:\n",
        "        print(\"  skipping {} ({})\".format(cargo_name, cargo_weight))\n",
        "        continue\n",
        "    else:\n",
        "        print(\"  adding {} ({})\".format(cargo_name, cargo_weight))\n",
        "        items.append(cargo_name)\n",
        "        weight += cargo_weight\n",
        "\n",
        "print(\"\\nFinal Weight: {}\".format(weight))\n",
        "print(\"Final Items: {}\".format(items))"
      ],
      "metadata": {
        "colab": {
          "base_uri": "https://localhost:8080/"
        },
        "id": "8mZYpTO0PCGE",
        "outputId": "fb7fbd1c-04b4-411e-8860-132590750c2e"
      },
      "execution_count": null,
      "outputs": [
        {
          "output_type": "stream",
          "name": "stdout",
          "text": [
            "\n",
            "METHOD 2\n",
            "current weight: 0\n",
            "  adding bananas (15)\n",
            "current weight: 15\n",
            "  adding mattresses (24)\n",
            "current weight: 39\n",
            "  adding dog kennels (42)\n",
            "current weight: 81\n",
            "  skipping machine (120)\n",
            "current weight: 81\n",
            "  adding cheeses (5)\n",
            "\n",
            "Final Weight: 86\n",
            "Final Items: ['bananas', 'mattresses', 'dog kennels', 'cheeses']\n"
          ]
        }
      ]
    },
    {
      "cell_type": "markdown",
      "source": [
        "## Quiz: Break the String\n",
        "\n",
        "Write a loop with a break statement to create a string, news_ticker, that is exactly 140 characters long. You should create the news ticker by adding headlines from the headlines list, inserting a space in between each headline. If necessary, truncate the last headline in the middle so that news_ticker is exactly 140 characters long."
      ],
      "metadata": {
        "id": "dobZaETlP3tK"
      }
    },
    {
      "cell_type": "code",
      "source": [
        "a_string = ''\n",
        "a_string += 'russi'\n",
        "a_string += 'a madden'\n",
        "print(a_string)\n",
        "a_string"
      ],
      "metadata": {
        "colab": {
          "base_uri": "https://localhost:8080/"
        },
        "id": "KO25tGj1UvwI",
        "outputId": "da612296-1e58-4923-8a2b-c23dc100b81f"
      },
      "execution_count": null,
      "outputs": [
        {
          "output_type": "stream",
          "name": "stdout",
          "text": [
            "russia madden\n"
          ]
        }
      ]
    },
    {
      "cell_type": "code",
      "source": [
        "# HINT: modify the headlines list to verify your loop works with different inputs\n",
        "headlines = [\"Local Bear Eaten by Man\",\n",
        "             \"Legislature Announces New Laws\",\n",
        "             \"Peasant Discovers Violence Inherent in System\",\n",
        "             \"Cat Rescues Fireman Stuck in Tree\",\n",
        "             \"Brave Knight Runs Away\",\n",
        "             \"Papperbok Review: Totally Triffic\"]\n",
        "\n",
        "news_ticker = \"\"\n",
        "i = 0\n",
        "# write your loop here\n",
        "while len(news_ticker) < 141:\n",
        "  news_ticker += headlines[i]\n",
        "  i += 1\n",
        "\n",
        "remove_extra_chars = len(news_ticker) - 141\n",
        "\n",
        "news_ticker = news_ticker[:-remove_extra_chars]\n",
        "print(news_ticker)\n",
        "print(len(news_ticker))"
      ],
      "metadata": {
        "colab": {
          "base_uri": "https://localhost:8080/"
        },
        "id": "0thGnEV4P0YH",
        "outputId": "391a257b-3afe-4f17-9d87-26b18aabc05e"
      },
      "execution_count": null,
      "outputs": [
        {
          "output_type": "stream",
          "name": "stdout",
          "text": [
            "Local Bear Eaten by ManLegislature Announces New LawsPeasant Discovers Violence Inherent in SystemCat Rescues Fireman Stuck in TreeBrave Knig\n",
            "141\n"
          ]
        }
      ]
    },
    {
      "cell_type": "code",
      "source": [
        "# HINT: modify the headlines list to verify your loop works with different inputs\n",
        "headlines = [\"Local Bear Eaten by Man\",\n",
        "             \"Legislature Announces New Laws\",\n",
        "             \"Peasant Discovers Violence Inherent in System\",\n",
        "             \"Cat Rescues Fireman Stuck in Tree\",\n",
        "             \"Brave Knight Runs Away\",\n",
        "             \"Papperbok Review: Totally Triffic\"]\n",
        "\n",
        "news_ticker = \"\"\n",
        "# write your loop here\n",
        "i = 0\n",
        "\n",
        "for headline in headlines:\n",
        "    if len(news_ticker) + len(headline) >= 140:\n",
        "        news_ticker += headline\n",
        "        break\n",
        "    else:\n",
        "        news_ticker += headline + ' '\n",
        "        i += 1\n",
        "\n",
        "remove_extra_chars = len(news_ticker) - 140\n",
        "news_ticker = news_ticker[:-remove_extra_chars]\n",
        "print(news_ticker)\n",
        "print(len(news_ticker))"
      ],
      "metadata": {
        "colab": {
          "base_uri": "https://localhost:8080/"
        },
        "id": "tkExQyWaYT7w",
        "outputId": "b390f6b9-ecd9-434d-f237-0998631e0320"
      },
      "execution_count": null,
      "outputs": [
        {
          "output_type": "stream",
          "name": "stdout",
          "text": [
            "Local Bear Eaten by Man Legislature Announces New Laws Peasant Discovers Violence Inherent in System Cat Rescues Fireman Stuck in Tree Brave\n",
            "140\n"
          ]
        }
      ]
    },
    {
      "cell_type": "code",
      "source": [
        "# Solution\n",
        "headlines = [\"Local Bear Eaten by Man\",\n",
        "             \"Legislature Announces New Laws\",\n",
        "             \"Peasant Discovers Violence Inherent in System\",\n",
        "             \"Cat Rescues Fireman Stuck in Tree\",\n",
        "             \"Brave Knight Runs Away\",\n",
        "             \"Papperbok Review: Totally Triffic\"]\n",
        "\n",
        "news_ticker = \"\"\n",
        "for headline in headlines:\n",
        "    news_ticker += headline + \" \"\n",
        "    if len(news_ticker) >= 140:\n",
        "        news_ticker = news_ticker[:140]\n",
        "        break\n",
        "\n",
        "print(news_ticker)"
      ],
      "metadata": {
        "id": "sHrgyqTqczGK"
      },
      "execution_count": null,
      "outputs": []
    },
    {
      "cell_type": "code",
      "source": [],
      "metadata": {
        "id": "-WBWB5-QRsfC"
      },
      "execution_count": null,
      "outputs": []
    },
    {
      "cell_type": "markdown",
      "source": [
        "##Quiz Check for Prime Numbers\n",
        "Prime numbers are whole numbers that have only two factors: 1 and the number itself. The first few prime numbers are 2, 3, 5, 7.\n",
        "\n",
        "For instance, 6 has four factors: 1, 2, 3, 6.\n",
        "\n",
        "1 X 6 = 6\n",
        "\n",
        "2 X 3 = 6\n",
        "\n",
        "So we know 6 is not a prime number.\n",
        "\n",
        "    If the numbers are prime, the code should print \"[number] is a prime number.\"\n",
        "    If the number is NOT a prime number, it should print \"[number] is not a prime number\", and a factor of that number, other than 1 and the number itself: \"[factor] is a factor of [number]\".\n",
        "\n",
        "Example output: 7 IS a prime number 26 is NOT a prime number, because 2 is a factor of 26"
      ],
      "metadata": {
        "id": "NO7I9Bf9RxdU"
      }
    },
    {
      "cell_type": "code",
      "source": [
        "# write code to check if the numbers provided in the list check_prime are prime numbers.\n",
        "# prime: 2, 3, 5, 7\n",
        "# NOT_prime: 6, 26\n",
        "check_prime = [2, 3, 5, 6, 7, 26]\n",
        "# check_factors\n",
        "# 2:  2 - (2-1) = 1 == prime\n",
        "# 3:      (3-1) = 2\n",
        "#                 2 * 2 == 3 False\n",
        "#         (2-1) = 1 == prime\n",
        "# 6:  6 - (6-1) = 5\n",
        "#                 5 * (6-5) == 6 False\n",
        "#         (5-1) = 4\n",
        "#                 4 * (6-4) == 6 False\n",
        "#         (4-1) = 3 * (6-3) == 6 False\n",
        "#         (3-1) = 2 * (6-2)\n",
        "\n"
      ],
      "metadata": {
        "id": "4gFmLVzkSEz-"
      },
      "execution_count": null,
      "outputs": []
    },
    {
      "cell_type": "code",
      "source": [
        "factors = [2,3,5,7,9]\n",
        "\n",
        "def is_prime(number):\n",
        "    for factor in factors:\n",
        "        if number % factor == 0 and number != factor:\n",
        "            return factor, False\n",
        "    return factor, True\n",
        "\n",
        "# prime: 2, 3, 5, 7\n",
        "# NOT_prime: 6, 26\n",
        "check_prime = [2, 3, 5, 6, 7, 26]\n",
        "\n",
        "for number in check_prime:\n",
        "    print(is_prime(number))\n",
        "    factor, prime = is_prime(number)\n",
        "    if prime:\n",
        "        print(f'{number} is a prime number')\n",
        "    else:\n",
        "        print(f'{number} is NOT a prime number, because {number} is a factor of {factor}')"
      ],
      "metadata": {
        "id": "mhUQunHZNHpX",
        "outputId": "519655c4-5fa0-49d7-b796-9e78f11a2f0f",
        "colab": {
          "base_uri": "https://localhost:8080/"
        }
      },
      "execution_count": null,
      "outputs": [
        {
          "output_type": "stream",
          "name": "stdout",
          "text": [
            "(9, True)\n",
            "2 is a prime number\n",
            "(9, True)\n",
            "3 is a prime number\n",
            "(9, True)\n",
            "5 is a prime number\n",
            "(2, False)\n",
            "6 is NOT a prime number, because 6 is a factor of 2\n",
            "(9, True)\n",
            "7 is a prime number\n",
            "(2, False)\n",
            "26 is NOT a prime number, because 26 is a factor of 2\n"
          ]
        }
      ]
    },
    {
      "cell_type": "code",
      "source": [
        "check_prime = [26, 39, 51, 53, 57, 79, 85]\n",
        "\n",
        "for num in check_prime:\n",
        "    if num == 2:\n",
        "        print(\"{} IS a prime number\".format(num))\n",
        "        continue\n",
        "\n",
        "## search for factors, iterating through numbers ranging from 2 to the number itself\n",
        "\n",
        "    for i in range(2, num):\n",
        "\n",
        "    ## number is not prime if modulo is 0\n",
        "\n",
        "        if (num % i) == 0:\n",
        "            print(\"{} is NOT a prime number, because {} is a factor of {}\".format(num, i, num))\n",
        "            break\n",
        "\n",
        "    ## otherwise keep checking until we've searched all possible factors, and then declare it prime\n",
        "\n",
        "        if i == num -1:\n",
        "            print(\"{} IS a prime number\".format(num))"
      ],
      "metadata": {
        "id": "kDX0jzvVNNjN",
        "outputId": "a85eafc2-0efa-4e43-8e3a-b3f44ceb41b6",
        "colab": {
          "base_uri": "https://localhost:8080/"
        }
      },
      "execution_count": null,
      "outputs": [
        {
          "output_type": "stream",
          "name": "stdout",
          "text": [
            "26 is NOT a prime number, because 2 is a factor of 26\n",
            "39 is NOT a prime number, because 3 is a factor of 39\n",
            "51 is NOT a prime number, because 3 is a factor of 51\n",
            "53 IS a prime number\n",
            "57 is NOT a prime number, because 3 is a factor of 57\n",
            "79 IS a prime number\n",
            "85 is NOT a prime number, because 5 is a factor of 85\n"
          ]
        }
      ]
    },
    {
      "cell_type": "code",
      "source": [
        "#Quiz Zip and Enumerate\n",
        "# Use zip to write a for loop that creates a string specifying the label and coordinates of each point and appends it to the list points.\n",
        "\n",
        "# Each string should be formatted as label: x, y, z\n",
        "\n",
        "x_coord = [23, 53, 2, -12, 95, 103, 14, -5]\n",
        "y_coord = [677, 233, 405, 433, 905, 376, 432, 445]\n",
        "z_coord = [4, 16, -6, -42, 3, -6, 23, -1]\n",
        "labels = [\"F\", \"J\", \"A\", \"Q\", \"Y\", \"B\", \"W\", \"X\"]\n",
        "points = []\n",
        "# write your for loop here\n",
        "for labels, x_coord, y_coord, z_coord in zip(labels, x_coord, y_coord, z_coord\n",
        "):\n",
        "#     print(f'{labels}: {x_coord}, {y_coord}, {z_coord}')\n",
        "    points.append(f'{labels}: {x_coord}, {y_coord}, {z_coord}')\n",
        "\n",
        "print(points)"
      ],
      "metadata": {
        "id": "f6ppeK4N5L-m",
        "outputId": "9ab10184-289a-4241-fb0d-0a62e20d5cf9",
        "colab": {
          "base_uri": "https://localhost:8080/"
        }
      },
      "execution_count": 1,
      "outputs": [
        {
          "output_type": "stream",
          "name": "stdout",
          "text": [
            "['F: 23, 677, 4', 'J: 53, 233, 16', 'A: 2, 405, -6', 'Q: -12, 433, -42', 'Y: 95, 905, 3', 'B: 103, 376, -6', 'W: 14, 432, 23', 'X: -5, 445, -1']\n"
          ]
        }
      ]
    },
    {
      "cell_type": "code",
      "source": [
        "# Quiz Solution Zip Coordinates\n",
        "x_coord = [23, 53, 2, -12, 95, 103, 14, -5]\n",
        "y_coord = [677, 233, 405, 433, 905, 376, 432, 445]\n",
        "z_coord = [4, 16, -6, -42, 3, -6, 23, -1]\n",
        "labels = [\"F\", \"J\", \"A\", \"Q\", \"Y\", \"B\", \"W\", \"X\"]\n",
        "points = []\n",
        "for point in zip(labels, x_coord, y_coord, z_coord):\n",
        "    points.append(\"{}: {}, {}, {}\".format(*point))\n",
        "\n",
        "for point in points:\n",
        "    print(point)"
      ],
      "metadata": {
        "id": "zHc7EJPD7Gzo",
        "outputId": "568057d8-7ac5-4b06-92a6-84367d4e40c5",
        "colab": {
          "base_uri": "https://localhost:8080/"
        }
      },
      "execution_count": 14,
      "outputs": [
        {
          "output_type": "stream",
          "name": "stdout",
          "text": [
            "F: 23, 677, 4\n",
            "J: 53, 233, 16\n",
            "A: 2, 405, -6\n",
            "Q: -12, 433, -42\n",
            "Y: 95, 905, 3\n",
            "B: 103, 376, -6\n",
            "W: 14, 432, 23\n",
            "X: -5, 445, -1\n"
          ]
        }
      ]
    },
    {
      "cell_type": "code",
      "source": [
        "## Quiz: Zip Lists to a Dictionary\n",
        "# Use `zip` to create a dictionary `cast` that uses `names` as keys and `heights` as values.\n",
        "cast_names = [\"Barney\", \"Robin\", \"Ted\", \"Lily\", \"Marshall\"]\n",
        "cast_heights = [72, 68, 72, 66, 76]\n",
        "\n",
        "cast = {} # replace with your code\n",
        "for cast_names, cast_heights in zip(cast_names, cast_heights):\n",
        "    cast[cast_names] = cast_heights\n",
        "\n",
        "print(cast)"
      ],
      "metadata": {
        "id": "IDpaeXEk5Q8-",
        "outputId": "313d3675-a73f-4de8-fee9-6498f8d3749d",
        "colab": {
          "base_uri": "https://localhost:8080/"
        }
      },
      "execution_count": 2,
      "outputs": [
        {
          "output_type": "stream",
          "name": "stdout",
          "text": [
            "{'Barney': 72, 'Robin': 68, 'Ted': 72, 'Lily': 66, 'Marshall': 76}\n"
          ]
        }
      ]
    },
    {
      "cell_type": "code",
      "source": [
        "# Zip Lists to a Dictonary Quiz Solution\n",
        "cast_names = [\"Barney\", \"Robin\", \"Ted\", \"Lily\", \"Marshall\"]\n",
        "cast_heights = [72, 68, 72, 66, 76]\n",
        "\n",
        "cast = dict(zip(cast_names, cast_heights))\n",
        "print(cast)"
      ],
      "metadata": {
        "id": "CK1Zxw9A6xzn",
        "outputId": "7052f345-cc7d-40d6-9ad4-d9e70e9c1bed",
        "colab": {
          "base_uri": "https://localhost:8080/"
        }
      },
      "execution_count": 12,
      "outputs": [
        {
          "output_type": "stream",
          "name": "stdout",
          "text": [
            "{'Barney': 72, 'Robin': 68, 'Ted': 72, 'Lily': 66, 'Marshall': 76}\n"
          ]
        }
      ]
    },
    {
      "cell_type": "markdown",
      "source": [],
      "metadata": {
        "id": "0HRS4WAe64Af"
      }
    },
    {
      "cell_type": "code",
      "source": [
        "# Quiz: Unzip Tuples\n",
        "\n",
        "# Unzip the cast tuple into two names and heights tuples.\n",
        "cast = ((\"Barney\", 72), (\"Robin\", 68), (\"Ted\", 72), (\"Lily\", 66), (\"Marshall\", 76))\n",
        "# define names and heights here\n",
        "# names, heights = (),() # replace with your code\n",
        "names, heights = zip(*cast)\n",
        "\n",
        "print(names)\n",
        "print(heights)\n"
      ],
      "metadata": {
        "id": "7P4BZKJu5aJx",
        "outputId": "1b11fbf9-8d85-43be-f768-67850f9d5c9f",
        "colab": {
          "base_uri": "https://localhost:8080/"
        }
      },
      "execution_count": 3,
      "outputs": [
        {
          "output_type": "stream",
          "name": "stdout",
          "text": [
            "('Barney', 'Robin', 'Ted', 'Lily', 'Marshall')\n",
            "(72, 68, 72, 66, 76)\n"
          ]
        }
      ]
    },
    {
      "cell_type": "code",
      "source": [
        "# Quiz: Transpose with Zip\n",
        "\n",
        "# Use zip to transpose data from a 4-by-3 matrix to a 3-by-4 matrix.\n",
        "\n",
        "data = ((0, 1, 2), (3, 4, 5), (6, 7, 8), (9, 10, 11))\n",
        "\n",
        "one,two,three = zip(*data)\n",
        "\n",
        "data_transpose = one, two, three\n",
        "print(data_transpose)"
      ],
      "metadata": {
        "id": "JDSZBREN5gZf",
        "outputId": "c62e64ed-c05d-47af-c7bd-8484ee5d38a7",
        "colab": {
          "base_uri": "https://localhost:8080/"
        }
      },
      "execution_count": 4,
      "outputs": [
        {
          "output_type": "stream",
          "name": "stdout",
          "text": [
            "((0, 3, 6, 9), (1, 4, 7, 10), (2, 5, 8, 11))\n"
          ]
        }
      ]
    },
    {
      "cell_type": "code",
      "source": [
        "# Course Solution Transpose with Zip\n",
        "data_transpose = tuple(zip(*data))\n",
        "print(data_transpose)"
      ],
      "metadata": {
        "id": "Yf8eg8Eb6geA",
        "outputId": "b157c3d1-b4f2-4aeb-a9a8-39e2f134e63c",
        "colab": {
          "base_uri": "https://localhost:8080/"
        }
      },
      "execution_count": 8,
      "outputs": [
        {
          "output_type": "stream",
          "name": "stdout",
          "text": [
            "((0, 3, 6, 9), (1, 4, 7, 10), (2, 5, 8, 11))\n"
          ]
        }
      ]
    },
    {
      "cell_type": "code",
      "source": [
        "# Enumerate\n",
        "\n",
        "# Use enumerate to modify the cast list so that each element contains the name followed by the character's corresponding height."
      ],
      "metadata": {
        "id": "uIrsz-cR5suT"
      },
      "execution_count": 5,
      "outputs": []
    },
    {
      "cell_type": "code",
      "source": [
        "cast = [\"Barney Stinson\", \"Robin Scherbatsky\", \"Ted Mosby\", \"Lily Aldrin\", \"Marshall Eriksen\"]\n",
        "heights = [72, 68, 72, 66, 76]\n",
        "# write your for loop here\n",
        "for i, chars in enumerate(cast):\n",
        "    cast[i] = chars + ' ' + str(heights[i])\n",
        "print(cast)"
      ],
      "metadata": {
        "id": "XA-CU4__5yvO",
        "outputId": "af9dc9f7-5430-4c41-bbb7-ff8a459726dd",
        "colab": {
          "base_uri": "https://localhost:8080/"
        }
      },
      "execution_count": 6,
      "outputs": [
        {
          "output_type": "stream",
          "name": "stdout",
          "text": [
            "['Barney Stinson 72', 'Robin Scherbatsky 68', 'Ted Mosby 72', 'Lily Aldrin 66', 'Marshall Eriksen 76']\n"
          ]
        }
      ]
    },
    {
      "cell_type": "code",
      "source": [],
      "metadata": {
        "id": "Ean1dhn-6gbp"
      },
      "execution_count": null,
      "outputs": []
    }
  ]
}