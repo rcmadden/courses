{
  "nbformat": 4,
  "nbformat_minor": 0,
  "metadata": {
    "colab": {
      "provenance": [],
      "authorship_tag": "ABX9TyMy7gSlqOoA5LURAHSYD4lJ",
      "include_colab_link": true
    },
    "kernelspec": {
      "name": "python3",
      "display_name": "Python 3"
    },
    "language_info": {
      "name": "python"
    }
  },
  "cells": [
    {
      "cell_type": "markdown",
      "metadata": {
        "id": "view-in-github",
        "colab_type": "text"
      },
      "source": [
        "<a href=\"https://colab.research.google.com/github/rcmadden/courses/blob/main/Ai-Programming-With-Python/python_review.ipynb\" target=\"_parent\"><img src=\"https://colab.research.google.com/assets/colab-badge.svg\" alt=\"Open In Colab\"/></a>"
      ]
    },
    {
      "cell_type": "markdown",
      "source": [
        "# Python Review\n"
      ],
      "metadata": {
        "id": "v-cHJU-psgJd"
      }
    },
    {
      "cell_type": "markdown",
      "source": [
        "## Quiz: Nearest Square\n",
        "\n",
        "Write a while loop that finds the largest square number less than an integer limit and stores it in a variable nearest_square. A square number is the product of an integer multiplied by itself, for example 36 is a square number because it equals 6*6.\n",
        "\n",
        "For example, if limit is 40, your code should set the nearest_square to 36."
      ],
      "metadata": {
        "id": "MZYpjT5zjGqQ"
      }
    },
    {
      "cell_type": "code",
      "execution_count": null,
      "metadata": {
        "id": "RUferN3MsbJ7",
        "outputId": "9309226e-38dd-40bc-c0f9-4307472ce13a",
        "colab": {
          "base_uri": "https://localhost:8080/"
        }
      },
      "outputs": [
        {
          "output_type": "stream",
          "name": "stdout",
          "text": [
            "5\n",
            "25 is a perfect square of 5 squared\n",
            "5\n"
          ]
        }
      ],
      "source": [
        "limit = 25\n",
        "start_num = int(limit / 2)\n",
        "nearest_square = None\n",
        "\n",
        "for nearest_square in range(start_num, 0, -1):\n",
        "  print(i)\n",
        "  if i * i == limit:\n",
        "    nearest_square = i\n",
        "    print(f'{limit} is a perfect square of {i} squared')\n",
        "    break\n",
        "print(nearest_square)"
      ]
    }
  ]
}